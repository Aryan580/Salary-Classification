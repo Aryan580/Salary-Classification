{
 "cells": [
  {
   "cell_type": "code",
   "execution_count": 1,
   "metadata": {},
   "outputs": [
    {
     "data": {
      "text/html": [
       "<div>\n",
       "<style scoped>\n",
       "    .dataframe tbody tr th:only-of-type {\n",
       "        vertical-align: middle;\n",
       "    }\n",
       "\n",
       "    .dataframe tbody tr th {\n",
       "        vertical-align: top;\n",
       "    }\n",
       "\n",
       "    .dataframe thead th {\n",
       "        text-align: right;\n",
       "    }\n",
       "</style>\n",
       "<table border=\"1\" class=\"dataframe\">\n",
       "  <thead>\n",
       "    <tr style=\"text-align: right;\">\n",
       "      <th></th>\n",
       "      <th>Year Type</th>\n",
       "      <th>Year</th>\n",
       "      <th>Organization Group Code</th>\n",
       "      <th>Organization Group</th>\n",
       "      <th>Department Code</th>\n",
       "      <th>Department</th>\n",
       "      <th>Union Code</th>\n",
       "      <th>Union</th>\n",
       "      <th>Job Family Code</th>\n",
       "      <th>Job Family</th>\n",
       "      <th>...</th>\n",
       "      <th>Employee Identifier</th>\n",
       "      <th>Salaries</th>\n",
       "      <th>Overtime</th>\n",
       "      <th>Other Salaries</th>\n",
       "      <th>Total Salary</th>\n",
       "      <th>Retirement</th>\n",
       "      <th>Health/Dental</th>\n",
       "      <th>Other Benefits</th>\n",
       "      <th>Total Benefits</th>\n",
       "      <th>Total Compensation</th>\n",
       "    </tr>\n",
       "  </thead>\n",
       "  <tbody>\n",
       "    <tr>\n",
       "      <th>0</th>\n",
       "      <td>Fiscal</td>\n",
       "      <td>2016</td>\n",
       "      <td>1</td>\n",
       "      <td>Public Protection</td>\n",
       "      <td>DAT</td>\n",
       "      <td>District Attorney</td>\n",
       "      <td>311.0</td>\n",
       "      <td>Municipal Attorneys' Association</td>\n",
       "      <td>8100</td>\n",
       "      <td>Legal &amp; Court</td>\n",
       "      <td>...</td>\n",
       "      <td>49919</td>\n",
       "      <td>114473.16</td>\n",
       "      <td>0.0</td>\n",
       "      <td>1500.00</td>\n",
       "      <td>115973.16</td>\n",
       "      <td>21025.98</td>\n",
       "      <td>13068.80</td>\n",
       "      <td>9368.71</td>\n",
       "      <td>43463.49</td>\n",
       "      <td>159436.65</td>\n",
       "    </tr>\n",
       "    <tr>\n",
       "      <th>1</th>\n",
       "      <td>Calendar</td>\n",
       "      <td>2013</td>\n",
       "      <td>5</td>\n",
       "      <td>Culture &amp; Recreation</td>\n",
       "      <td>ART</td>\n",
       "      <td>Arts Commission</td>\n",
       "      <td>790.0</td>\n",
       "      <td>SEIU - Miscellaneous, Local 1021</td>\n",
       "      <td>1800</td>\n",
       "      <td>Budget, Admn &amp; Stats Analysis</td>\n",
       "      <td>...</td>\n",
       "      <td>1225</td>\n",
       "      <td>84077.11</td>\n",
       "      <td>0.0</td>\n",
       "      <td>0.00</td>\n",
       "      <td>84077.11</td>\n",
       "      <td>16587.30</td>\n",
       "      <td>12457.73</td>\n",
       "      <td>6931.91</td>\n",
       "      <td>35976.94</td>\n",
       "      <td>120054.05</td>\n",
       "    </tr>\n",
       "    <tr>\n",
       "      <th>2</th>\n",
       "      <td>Calendar</td>\n",
       "      <td>2015</td>\n",
       "      <td>4</td>\n",
       "      <td>Community Health</td>\n",
       "      <td>DPH</td>\n",
       "      <td>Public Health</td>\n",
       "      <td>535.0</td>\n",
       "      <td>SEIU - Human Services, Local 1021</td>\n",
       "      <td>2900</td>\n",
       "      <td>Human Services</td>\n",
       "      <td>...</td>\n",
       "      <td>34873</td>\n",
       "      <td>9980.17</td>\n",
       "      <td>0.0</td>\n",
       "      <td>798.43</td>\n",
       "      <td>10778.60</td>\n",
       "      <td>0.00</td>\n",
       "      <td>2254.93</td>\n",
       "      <td>835.11</td>\n",
       "      <td>3090.04</td>\n",
       "      <td>13868.64</td>\n",
       "    </tr>\n",
       "    <tr>\n",
       "      <th>3</th>\n",
       "      <td>Fiscal</td>\n",
       "      <td>2015</td>\n",
       "      <td>4</td>\n",
       "      <td>Community Health</td>\n",
       "      <td>DPH</td>\n",
       "      <td>Public Health</td>\n",
       "      <td>250.0</td>\n",
       "      <td>SEIU - Health Workers, Local 1021</td>\n",
       "      <td>2200</td>\n",
       "      <td>Medical &amp; Dental</td>\n",
       "      <td>...</td>\n",
       "      <td>51145</td>\n",
       "      <td>2873.41</td>\n",
       "      <td>0.0</td>\n",
       "      <td>0.00</td>\n",
       "      <td>2873.41</td>\n",
       "      <td>0.00</td>\n",
       "      <td>622.63</td>\n",
       "      <td>222.46</td>\n",
       "      <td>845.09</td>\n",
       "      <td>3718.50</td>\n",
       "    </tr>\n",
       "    <tr>\n",
       "      <th>4</th>\n",
       "      <td>Fiscal</td>\n",
       "      <td>2014</td>\n",
       "      <td>5</td>\n",
       "      <td>Culture &amp; Recreation</td>\n",
       "      <td>REC</td>\n",
       "      <td>Recreation and Park Commission</td>\n",
       "      <td>790.0</td>\n",
       "      <td>SEIU - Miscellaneous, Local 1021</td>\n",
       "      <td>3200</td>\n",
       "      <td>Recreation</td>\n",
       "      <td>...</td>\n",
       "      <td>48705</td>\n",
       "      <td>6701.85</td>\n",
       "      <td>0.0</td>\n",
       "      <td>176.70</td>\n",
       "      <td>6878.55</td>\n",
       "      <td>0.00</td>\n",
       "      <td>2711.66</td>\n",
       "      <td>538.43</td>\n",
       "      <td>3250.09</td>\n",
       "      <td>10128.64</td>\n",
       "    </tr>\n",
       "  </tbody>\n",
       "</table>\n",
       "<p>5 rows × 22 columns</p>\n",
       "</div>"
      ],
      "text/plain": [
       "  Year Type  Year  Organization Group Code    Organization Group  \\\n",
       "0    Fiscal  2016                        1     Public Protection   \n",
       "1  Calendar  2013                        5  Culture & Recreation   \n",
       "2  Calendar  2015                        4      Community Health   \n",
       "3    Fiscal  2015                        4      Community Health   \n",
       "4    Fiscal  2014                        5  Culture & Recreation   \n",
       "\n",
       "  Department Code                      Department  Union Code  \\\n",
       "0             DAT               District Attorney       311.0   \n",
       "1             ART                 Arts Commission       790.0   \n",
       "2             DPH                   Public Health       535.0   \n",
       "3             DPH                   Public Health       250.0   \n",
       "4             REC  Recreation and Park Commission       790.0   \n",
       "\n",
       "                               Union Job Family Code  \\\n",
       "0   Municipal Attorneys' Association            8100   \n",
       "1   SEIU - Miscellaneous, Local 1021            1800   \n",
       "2  SEIU - Human Services, Local 1021            2900   \n",
       "3  SEIU - Health Workers, Local 1021            2200   \n",
       "4   SEIU - Miscellaneous, Local 1021            3200   \n",
       "\n",
       "                      Job Family  ... Employee Identifier   Salaries  \\\n",
       "0                  Legal & Court  ...               49919  114473.16   \n",
       "1  Budget, Admn & Stats Analysis  ...                1225   84077.11   \n",
       "2                 Human Services  ...               34873    9980.17   \n",
       "3               Medical & Dental  ...               51145    2873.41   \n",
       "4                     Recreation  ...               48705    6701.85   \n",
       "\n",
       "   Overtime  Other Salaries  Total Salary  Retirement  Health/Dental  \\\n",
       "0       0.0         1500.00     115973.16    21025.98       13068.80   \n",
       "1       0.0            0.00      84077.11    16587.30       12457.73   \n",
       "2       0.0          798.43      10778.60        0.00        2254.93   \n",
       "3       0.0            0.00       2873.41        0.00         622.63   \n",
       "4       0.0          176.70       6878.55        0.00        2711.66   \n",
       "\n",
       "   Other Benefits  Total Benefits  Total Compensation  \n",
       "0         9368.71        43463.49           159436.65  \n",
       "1         6931.91        35976.94           120054.05  \n",
       "2          835.11         3090.04            13868.64  \n",
       "3          222.46          845.09             3718.50  \n",
       "4          538.43         3250.09            10128.64  \n",
       "\n",
       "[5 rows x 22 columns]"
      ]
     },
     "execution_count": 1,
     "metadata": {},
     "output_type": "execute_result"
    }
   ],
   "source": [
    "import pandas as pd\n",
    "import numpy as np\n",
    "import matplotlib.pyplot as plt\n",
    "import math\n",
    "%matplotlib inline\n",
    "df = pd.read_csv('/home/aryan/Downloads/Employee_Compensation_SF.csv')\n",
    "df.head()"
   ]
  },
  {
   "cell_type": "code",
   "execution_count": 2,
   "metadata": {},
   "outputs": [
    {
     "name": "stdout",
     "output_type": "stream",
     "text": [
      "<class 'pandas.core.frame.DataFrame'>\n",
      "RangeIndex: 291825 entries, 0 to 291824\n",
      "Data columns (total 22 columns):\n",
      "Year Type                  291825 non-null object\n",
      "Year                       291825 non-null int64\n",
      "Organization Group Code    291825 non-null int64\n",
      "Organization Group         291825 non-null object\n",
      "Department Code            291825 non-null object\n",
      "Department                 291825 non-null object\n",
      "Union Code                 291782 non-null float64\n",
      "Union                      291782 non-null object\n",
      "Job Family Code            291780 non-null object\n",
      "Job Family                 291780 non-null object\n",
      "Job Code                   291825 non-null object\n",
      "Job                        291825 non-null object\n",
      "Employee Identifier        291825 non-null int64\n",
      "Salaries                   291825 non-null float64\n",
      "Overtime                   291825 non-null float64\n",
      "Other Salaries             291825 non-null float64\n",
      "Total Salary               291825 non-null float64\n",
      "Retirement                 291825 non-null float64\n",
      "Health/Dental              291825 non-null float64\n",
      "Other Benefits             291825 non-null float64\n",
      "Total Benefits             291825 non-null float64\n",
      "Total Compensation         291825 non-null float64\n",
      "dtypes: float64(10), int64(3), object(9)\n",
      "memory usage: 49.0+ MB\n"
     ]
    }
   ],
   "source": [
    "df.info()"
   ]
  },
  {
   "cell_type": "code",
   "execution_count": 3,
   "metadata": {},
   "outputs": [],
   "source": [
    "df = df.drop(['Organization Group','Department','Union','Job Family'],axis=1)"
   ]
  },
  {
   "cell_type": "code",
   "execution_count": 4,
   "metadata": {},
   "outputs": [
    {
     "name": "stdout",
     "output_type": "stream",
     "text": [
      "<class 'pandas.core.frame.DataFrame'>\n",
      "RangeIndex: 291825 entries, 0 to 291824\n",
      "Data columns (total 18 columns):\n",
      "Year Type                  291825 non-null object\n",
      "Year                       291825 non-null int64\n",
      "Organization Group Code    291825 non-null int64\n",
      "Department Code            291825 non-null object\n",
      "Union Code                 291782 non-null float64\n",
      "Job Family Code            291780 non-null object\n",
      "Job Code                   291825 non-null object\n",
      "Job                        291825 non-null object\n",
      "Employee Identifier        291825 non-null int64\n",
      "Salaries                   291825 non-null float64\n",
      "Overtime                   291825 non-null float64\n",
      "Other Salaries             291825 non-null float64\n",
      "Total Salary               291825 non-null float64\n",
      "Retirement                 291825 non-null float64\n",
      "Health/Dental              291825 non-null float64\n",
      "Other Benefits             291825 non-null float64\n",
      "Total Benefits             291825 non-null float64\n",
      "Total Compensation         291825 non-null float64\n",
      "dtypes: float64(10), int64(3), object(5)\n",
      "memory usage: 40.1+ MB\n"
     ]
    }
   ],
   "source": [
    "df.info()"
   ]
  },
  {
   "cell_type": "code",
   "execution_count": 5,
   "metadata": {},
   "outputs": [],
   "source": [
    "from sklearn.preprocessing import LabelEncoder,scale"
   ]
  },
  {
   "cell_type": "code",
   "execution_count": 6,
   "metadata": {},
   "outputs": [],
   "source": [
    "le = LabelEncoder()\n",
    "df['Year Type'] = le.fit_transform(df['Year Type'])"
   ]
  },
  {
   "cell_type": "code",
   "execution_count": 7,
   "metadata": {},
   "outputs": [],
   "source": [
    "df['Department Code'] = le.fit_transform(df['Department Code'])"
   ]
  },
  {
   "cell_type": "markdown",
   "metadata": {},
   "source": [
    "Since Job Family Code is mix of both categorical and numerical data, we decided to got for a custom Label Encoding for this particular attribute"
   ]
  },
  {
   "cell_type": "code",
   "execution_count": 8,
   "metadata": {},
   "outputs": [],
   "source": [
    "JFC = df['Job Family Code'].value_counts().index.tolist()\n",
    "JFC_dict = {}\n",
    "for i in range(len(JFC)):\n",
    "    JFC_dict[JFC[i]] = i+100\n",
    "df['Job Family Code'] = df['Job Family Code'].replace(JFC_dict)    "
   ]
  },
  {
   "cell_type": "code",
   "execution_count": 9,
   "metadata": {},
   "outputs": [],
   "source": [
    "df['Job Code'] = le.fit_transform(df['Job Code'])"
   ]
  },
  {
   "cell_type": "code",
   "execution_count": 10,
   "metadata": {},
   "outputs": [],
   "source": [
    "df['Job'] = le.fit_transform(df['Job'])"
   ]
  },
  {
   "cell_type": "code",
   "execution_count": 11,
   "metadata": {},
   "outputs": [
    {
     "data": {
      "text/plain": [
       "Index(['Year Type', 'Year', 'Organization Group Code', 'Department Code',\n",
       "       'Union Code', 'Job Family Code', 'Job Code', 'Job',\n",
       "       'Employee Identifier', 'Salaries', 'Overtime', 'Other Salaries',\n",
       "       'Total Salary', 'Retirement', 'Health/Dental', 'Other Benefits',\n",
       "       'Total Benefits', 'Total Compensation'],\n",
       "      dtype='object')"
      ]
     },
     "execution_count": 11,
     "metadata": {},
     "output_type": "execute_result"
    }
   ],
   "source": [
    "df.columns"
   ]
  },
  {
   "cell_type": "code",
   "execution_count": 12,
   "metadata": {},
   "outputs": [],
   "source": [
    "df = df[['Year Type', 'Year', 'Organization Group Code', 'Department Code',\n",
    "       'Union Code', 'Job Family Code', 'Job Code', 'Job',\n",
    "       'Employee Identifier', 'Salaries', 'Overtime', 'Other Salaries', 'Retirement', 'Health/Dental', 'Other Benefits',\n",
    "       'Total Benefits', 'Total Compensation',\n",
    "       'Total Salary']]"
   ]
  },
  {
   "cell_type": "code",
   "execution_count": 13,
   "metadata": {},
   "outputs": [],
   "source": [
    "df = df.dropna()"
   ]
  },
  {
   "cell_type": "code",
   "execution_count": 14,
   "metadata": {},
   "outputs": [],
   "source": [
    "df = df.astype('float32')"
   ]
  },
  {
   "cell_type": "code",
   "execution_count": 15,
   "metadata": {},
   "outputs": [],
   "source": [
    "S = scale(df)"
   ]
  },
  {
   "cell_type": "code",
   "execution_count": 16,
   "metadata": {},
   "outputs": [],
   "source": [
    "x = S[:,:-1]\n",
    "y = S[:,-1]"
   ]
  },
  {
   "cell_type": "code",
   "execution_count": 17,
   "metadata": {},
   "outputs": [],
   "source": [
    "from sklearn.model_selection import train_test_split as t\n",
    "train_x,test_x,train_y,test_y = t(x,y,test_size=0.2)"
   ]
  },
  {
   "cell_type": "markdown",
   "metadata": {},
   "source": [
    "# Using MPL Regressor"
   ]
  },
  {
   "cell_type": "code",
   "execution_count": 18,
   "metadata": {},
   "outputs": [
    {
     "data": {
      "text/plain": [
       "MLPRegressor(activation='relu', alpha=0.0001, batch_size='auto', beta_1=0.9,\n",
       "             beta_2=0.999, early_stopping=False, epsilon=1e-08,\n",
       "             hidden_layer_sizes=(25, 1), learning_rate='constant',\n",
       "             learning_rate_init=0.001, max_iter=500, momentum=0.9,\n",
       "             n_iter_no_change=10, nesterovs_momentum=True, power_t=0.5,\n",
       "             random_state=None, shuffle=True, solver='adam', tol=0.0001,\n",
       "             validation_fraction=0.1, verbose=False, warm_start=False)"
      ]
     },
     "execution_count": 18,
     "metadata": {},
     "output_type": "execute_result"
    }
   ],
   "source": [
    "from sklearn.neural_network import MLPRegressor\n",
    "mlp = MLPRegressor(hidden_layer_sizes = (25,1),max_iter=500)\n",
    "mlp.fit(train_x,train_y)"
   ]
  },
  {
   "cell_type": "code",
   "execution_count": 19,
   "metadata": {},
   "outputs": [
    {
     "data": {
      "text/plain": [
       "4.2354366724728637e-08"
      ]
     },
     "execution_count": 19,
     "metadata": {},
     "output_type": "execute_result"
    }
   ],
   "source": [
    "from sklearn.metrics import mean_squared_error\n",
    "mlp_mse = mean_squared_error(test_y,mlp.predict(test_x))\n",
    "mlp_mse"
   ]
  },
  {
   "cell_type": "markdown",
   "metadata": {},
   "source": [
    "# Using Linear Regression"
   ]
  },
  {
   "cell_type": "code",
   "execution_count": 20,
   "metadata": {},
   "outputs": [
    {
     "data": {
      "text/plain": [
       "LinearRegression(copy_X=True, fit_intercept=True, n_jobs=None, normalize=False)"
      ]
     },
     "execution_count": 20,
     "metadata": {},
     "output_type": "execute_result"
    }
   ],
   "source": [
    "from sklearn.linear_model import LinearRegression\n",
    "lr = LinearRegression()\n",
    "lr.fit(train_x, train_y)"
   ]
  },
  {
   "cell_type": "code",
   "execution_count": 21,
   "metadata": {},
   "outputs": [
    {
     "data": {
      "text/plain": [
       "2.0512541479901437e-15"
      ]
     },
     "execution_count": 21,
     "metadata": {},
     "output_type": "execute_result"
    }
   ],
   "source": [
    "lr_mse = mean_squared_error(test_y,lr.predict(test_x))\n",
    "lr_mse"
   ]
  },
  {
   "cell_type": "code",
   "execution_count": 22,
   "metadata": {},
   "outputs": [
    {
     "data": {
      "text/plain": [
       "True"
      ]
     },
     "execution_count": 22,
     "metadata": {},
     "output_type": "execute_result"
    }
   ],
   "source": [
    "mlp_mse > lr_mse"
   ]
  }
 ],
 "metadata": {
  "kernelspec": {
   "display_name": "Python 3",
   "language": "python",
   "name": "python3"
  },
  "language_info": {
   "codemirror_mode": {
    "name": "ipython",
    "version": 3
   },
   "file_extension": ".py",
   "mimetype": "text/x-python",
   "name": "python",
   "nbconvert_exporter": "python",
   "pygments_lexer": "ipython3",
   "version": "3.7.3"
  }
 },
 "nbformat": 4,
 "nbformat_minor": 2
}
